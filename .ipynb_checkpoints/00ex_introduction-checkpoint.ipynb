{
 "cells": [
  {
   "cell_type": "markdown",
   "metadata": {},
   "source": [
    "1. The MickeyMouse problem\n",
    "\n",
    "a) Write a program that prints the numbers from 1 to 100. But for multiples of 3 print `Mickey` instead of the corresponding number and for the multiples of 5 print `Mouse`. For numbers which are multiples of both three and five print `MickeyMouse`\n",
    "\n",
    "b) Put the result in a tuple and substitute `Mickey` with `Donald` and `Mouse` with `Duck`"
   ]
  },
  {
   "cell_type": "code",
   "execution_count": 1,
   "metadata": {},
   "outputs": [
    {
     "name": "stdout",
     "output_type": "stream",
     "text": [
      "1\n",
      "2\n",
      "Mickey\n",
      "4\n",
      "Mouse\n",
      "Mickey\n",
      "7\n",
      "8\n",
      "Mickey\n",
      "Mouse\n",
      "11\n",
      "Mickey\n",
      "13\n",
      "14\n",
      "MickeyMouse\n",
      "16\n",
      "17\n",
      "Mickey\n",
      "19\n",
      "Mouse\n",
      "Mickey\n",
      "22\n",
      "23\n",
      "Mickey\n",
      "Mouse\n",
      "26\n",
      "Mickey\n",
      "28\n",
      "29\n",
      "MickeyMouse\n",
      "31\n",
      "32\n",
      "Mickey\n",
      "34\n",
      "Mouse\n",
      "Mickey\n",
      "37\n",
      "38\n",
      "Mickey\n",
      "Mouse\n",
      "41\n",
      "Mickey\n",
      "43\n",
      "44\n",
      "MickeyMouse\n",
      "46\n",
      "47\n",
      "Mickey\n",
      "49\n",
      "Mouse\n",
      "Mickey\n",
      "52\n",
      "53\n",
      "Mickey\n",
      "Mouse\n",
      "56\n",
      "Mickey\n",
      "58\n",
      "59\n",
      "MickeyMouse\n",
      "61\n",
      "62\n",
      "Mickey\n",
      "64\n",
      "Mouse\n",
      "Mickey\n",
      "67\n",
      "68\n",
      "Mickey\n",
      "Mouse\n",
      "71\n",
      "Mickey\n",
      "73\n",
      "74\n",
      "MickeyMouse\n",
      "76\n",
      "77\n",
      "Mickey\n",
      "79\n",
      "Mouse\n",
      "Mickey\n",
      "82\n",
      "83\n",
      "Mickey\n",
      "Mouse\n",
      "86\n",
      "Mickey\n",
      "88\n",
      "89\n",
      "MickeyMouse\n",
      "91\n",
      "92\n",
      "Mickey\n",
      "94\n",
      "Mouse\n",
      "Mickey\n",
      "97\n",
      "98\n",
      "Mickey\n",
      "Mouse\n",
      "Original tuple:\n",
      " (1, 2, 'Mickey', 4, 'Mouse', 'Mickey', 7, 8, 'Mickey', 'Mouse', 11, 'Mickey', 13, 14, 'MickeyMouse', 16, 17, 'Mickey', 19, 'Mouse', 'Mickey', 22, 23, 'Mickey', 'Mouse', 26, 'Mickey', 28, 29, 'MickeyMouse', 31, 32, 'Mickey', 34, 'Mouse', 'Mickey', 37, 38, 'Mickey', 'Mouse', 41, 'Mickey', 43, 44, 'MickeyMouse', 46, 47, 'Mickey', 49, 'Mouse', 'Mickey', 52, 53, 'Mickey', 'Mouse', 56, 'Mickey', 58, 59, 'MickeyMouse', 61, 62, 'Mickey', 64, 'Mouse', 'Mickey', 67, 68, 'Mickey', 'Mouse', 71, 'Mickey', 73, 74, 'MickeyMouse', 76, 77, 'Mickey', 79, 'Mouse', 'Mickey', 82, 83, 'Mickey', 'Mouse', 86, 'Mickey', 88, 89, 'MickeyMouse', 91, 92, 'Mickey', 94, 'Mouse', 'Mickey', 97, 98, 'Mickey', 'Mouse')\n",
      "Modified tuple:\n",
      " (1, 2, 'Donald', 4, 'Duck', 'Donald', 7, 8, 'Donald', 'Duck', 11, 'Donald', 13, 14, 'DonaldDuck', 16, 17, 'Donald', 19, 'Duck', 'Donald', 22, 23, 'Donald', 'Duck', 26, 'Donald', 28, 29, 'DonaldDuck', 31, 32, 'Donald', 34, 'Duck', 'Donald', 37, 38, 'Donald', 'Duck', 41, 'Donald', 43, 44, 'DonaldDuck', 46, 47, 'Donald', 49, 'Duck', 'Donald', 52, 53, 'Donald', 'Duck', 56, 'Donald', 58, 59, 'DonaldDuck', 61, 62, 'Donald', 64, 'Duck', 'Donald', 67, 68, 'Donald', 'Duck', 71, 'Donald', 73, 74, 'DonaldDuck', 76, 77, 'Donald', 79, 'Duck', 'Donald', 82, 83, 'Donald', 'Duck', 86, 'Donald', 88, 89, 'DonaldDuck', 91, 92, 'Donald', 94, 'Duck', 'Donald', 97, 98, 'Donald', 'Duck')\n"
     ]
    }
   ],
   "source": [
    "#1\n",
    "l=[]\n",
    "for i in range (1,101) :\n",
    "    if i%15==0 :\n",
    "        print (\"MickeyMouse\")\n",
    "        l.append(\"MickeyMouse\")\n",
    "    elif i%5==0 :\n",
    "        print (\"Mouse\")\n",
    "        l.append(\"Mouse\")\n",
    "    elif i%3==0 :\n",
    "        print (\"Mickey\")\n",
    "        l.append(\"Mickey\")\n",
    "    else :\n",
    "        print (i)\n",
    "        l.append(i)\n",
    "t=tuple(l)\n",
    "print (\"Original tuple:\\n\" , t)\n",
    "l=list(t)\n",
    "for i in range (len(l)):\n",
    "    if l[i]==\"Mickey\":\n",
    "        l[i]=\"Donald\"\n",
    "    elif l[i]==\"Mouse\":\n",
    "        l[i]=\"Duck\"\n",
    "    elif l[i]==\"MickeyMouse\":\n",
    "        l[i]=\"DonaldDuck\"\n",
    "        \n",
    "t=tuple(l)\n",
    "print (\"Modified tuple:\\n\" , t)"
   ]
  },
  {
   "cell_type": "markdown",
   "metadata": {},
   "source": [
    "2\\. The swap function\n",
    "\n",
    "Write a function that swap the values of two input variables x and y (whatever the type). Try to do that also without a temporary variable"
   ]
  },
  {
   "cell_type": "code",
   "execution_count": 2,
   "metadata": {},
   "outputs": [
    {
     "name": "stdout",
     "output_type": "stream",
     "text": [
      "\n",
      "\n",
      "Before swap: a= string a b= 2\n",
      "After swap: a= 2 b= string a\n"
     ]
    }
   ],
   "source": [
    "\n",
    "#2 swap\n",
    "print ('\\n')\n",
    "a='string a'\n",
    "b=2\n",
    "print ('Before swap: a=',a,'b=',b)\n",
    "a,b=b,a\n",
    "print ('After swap: a=',a,'b=',b)\n"
   ]
  },
  {
   "cell_type": "markdown",
   "metadata": {},
   "source": [
    "3\\. Computing the distance\n",
    "\n",
    "Write a function that calculates and returns the euclidean distance between two points *u* and *v*, where *u* and *v* are both 2-tuples *(x,y)*. For example, if *u=(3,0)* and *v=(0,4)*, the function should return 5"
   ]
  },
  {
   "cell_type": "code",
   "execution_count": 7,
   "metadata": {},
   "outputs": [
    {
     "name": "stdout",
     "output_type": "stream",
     "text": [
      "5.0\n"
     ]
    }
   ],
   "source": [
    "def edist(u,v):\n",
    "    try :\n",
    "        d=((u[0]-v[0])**2 +  (u[1]-v[1] )**2)**0.5\n",
    "        return d\n",
    "    except :\n",
    "        return (\"Values must be stored in two tuples u(x,y), v(x',y')\")\n",
    "        \n",
    "u,v=(3,0),(0,4)\n",
    "print (edist(u,v))\n",
    "\n",
    "            "
   ]
  },
  {
   "cell_type": "markdown",
   "metadata": {},
   "source": [
    "4\\. Counting letters\n",
    "\n",
    "Write a program to calculate the number of times each character occurs in a given string *s*. Ignore differneces in capitalization\n",
    "\n"
   ]
  },
  {
   "cell_type": "code",
   "execution_count": 17,
   "metadata": {},
   "outputs": [
    {
     "name": "stdout",
     "output_type": "stream",
     "text": [
      "Character  q was found 2 times\n",
      "Character  o was found 5 times\n",
      "Character  n was found 4 times\n",
      "Character  w was found 1 times\n",
      "Character  d was found 2 times\n",
      "Character  v was found 1 times\n",
      "Character    was found 6 times\n",
      "Character  s was found 1 times\n",
      "Character  a was found 2 times\n",
      "Character  p was found 3 times\n",
      "Character  3 was found 1 times\n",
      "Character  0 was found 2 times\n",
      "Character  2 was found 1 times\n",
      "Character  . was found 1 times\n",
      "Character  à was found 1 times\n",
      "Character  ò was found 1 times\n",
      "Character  9 was found 1 times\n"
     ]
    }
   ],
   "source": [
    "s=\"QOQNWDOnnov sd napoo302p.aàòp  09  \"\n",
    "s=s.lower()\n",
    "control=''\n",
    "for i in s:\n",
    "    if not(i in control):    \n",
    "                    print (\"Character \",i,\"was found\",s.count (i),\"times\")\n",
    "                    control+=i\n"
   ]
  },
  {
   "cell_type": "markdown",
   "metadata": {},
   "source": [
    "5\\. Isolating the unique\n",
    "\n",
    "Write a function that determines and count the unique numbers in the list *l*"
   ]
  },
  {
   "cell_type": "code",
   "execution_count": 21,
   "metadata": {},
   "outputs": [
    {
     "name": "stdout",
     "output_type": "stream",
     "text": [
      "Number 36 was found 4 times\n",
      "Number 45 was found 3 times\n",
      "Number 58 was found 1 times\n",
      "Number 3 was found 2 times\n",
      "Number 74 was found 1 times\n",
      "Number 96 was found 1 times\n",
      "Number 64 was found 1 times\n",
      "Number 31 was found 2 times\n",
      "Number 10 was found 1 times\n",
      "Number 24 was found 1 times\n",
      "Number 19 was found 1 times\n",
      "Number 33 was found 1 times\n",
      "Number 86 was found 1 times\n",
      "Number 99 was found 1 times\n",
      "Number 18 was found 1 times\n",
      "Number 63 was found 2 times\n",
      "Number 70 was found 3 times\n",
      "Number 85 was found 3 times\n",
      "Number 47 was found 1 times\n",
      "Number 56 was found 2 times\n",
      "Number 42 was found 2 times\n",
      "Number 84 was found 4 times\n",
      "Number 88 was found 1 times\n",
      "Number 55 was found 1 times\n",
      "Number 20 was found 3 times\n",
      "Number 54 was found 1 times\n",
      "Number 8 was found 1 times\n",
      "Number 51 was found 3 times\n",
      "Number 79 was found 1 times\n",
      "Number 81 was found 1 times\n",
      "Number 57 was found 1 times\n",
      "Number 37 was found 1 times\n",
      "Number 91 was found 3 times\n",
      "Number 1 was found 1 times\n",
      "Number 66 was found 2 times\n",
      "Number 9 was found 1 times\n",
      "Number 89 was found 2 times\n",
      "Number 50 was found 2 times\n",
      "Number 95 was found 1 times\n",
      "Number 90 was found 1 times\n",
      "Number 98 was found 1 times\n",
      "Number 39 was found 1 times\n",
      "Number 16 was found 1 times\n",
      "Number 82 was found 1 times\n",
      "Number 92 was found 1 times\n",
      "Number 41 was found 1 times\n",
      "Number 30 was found 1 times\n",
      "Number 34 was found 2 times\n",
      "Number 94 was found 1 times\n",
      "Number 5 was found 1 times\n",
      "Number 72 was found 1 times\n",
      "Number 87 was found 1 times\n",
      "Number 75 was found 1 times\n",
      "Number 53 was found 1 times\n"
     ]
    }
   ],
   "source": [
    "l = [36, 36, 45, 58, 3, 74, 96, 64, 45, 31, 10, 24, 19, 33, 86, 99, 18, 63, 70, 85,\n",
    " 85, 63, 47, 56, 42, 70, 84, 88, 55, 20, 54, 8, 56, 51, 79, 81, 57, 37, 91,\n",
    " 1, 84, 84, 36, 66, 9, 89, 50, 42, 91, 50, 95, 90, 98, 39, 16, 82, 31, 92, 41,\n",
    " 45, 30, 66, 70, 34, 85, 94, 5, 3, 36, 72, 91, 84, 34, 87, 75, 53, 51, 20, 89, 51, 20]\n",
    "lc=[] #control\n",
    "for i in l:\n",
    "    if not(i in lc):\n",
    "        print(\"Number\",i,\"was found\",l.count(i),\"times\")\n",
    "        lc.append(i)"
   ]
  },
  {
   "cell_type": "markdown",
   "metadata": {},
   "source": [
    "6\\. Combination of functions\n",
    "\n",
    "Write two functions - one that returns the square of a number, and one that returns the cube. Now write a third function that returns the number raised to the 6th power using the two previous functions."
   ]
  },
  {
   "cell_type": "code",
   "execution_count": 24,
   "metadata": {},
   "outputs": [
    {
     "name": "stdout",
     "output_type": "stream",
     "text": [
      "9 \n",
      " Trying to cube variable that is not a number \n",
      " 262144\n"
     ]
    }
   ],
   "source": [
    "def square(x):\n",
    "    try:\n",
    "        return x**2\n",
    "    except:\n",
    "        return (\"Trying to square variable that is not a number\")\n",
    "\n",
    "def cube(x):\n",
    "    try:\n",
    "        return x**3\n",
    "    except:\n",
    "        return (\"Trying to cube variable that is not a number\")\n",
    "\n",
    "def sixth(x):\n",
    "    try:\n",
    "        return square(cube(x))\n",
    "    except:\n",
    "        return (\"Trying to compute the 6th power of a variable that is not a number\")\n",
    "\n",
    "\n",
    "print (square(3),'\\n', cube(u),'\\n',sixth(8))\n",
    "    "
   ]
  },
  {
   "cell_type": "markdown",
   "metadata": {},
   "source": [
    "7\\. Cubes\n",
    "\n",
    "Create a list of the cubes of x for x in *[0, 10]* using:\n",
    "\n",
    "a) a for loop\n",
    "\n",
    "b) a list comprehension"
   ]
  },
  {
   "cell_type": "code",
   "execution_count": 27,
   "metadata": {},
   "outputs": [
    {
     "name": "stdout",
     "output_type": "stream",
     "text": [
      "List l1: [0, 1, 8, 27, 64, 125, 216, 343, 512, 729, 1000] \n",
      " List l2: [0, 1, 8, 27, 64, 125, 216, 343, 512, 729, 1000]\n"
     ]
    }
   ],
   "source": [
    "l1=[]\n",
    "for i in range (11):\n",
    "    l1.append(i**3)\n",
    "l2=[i**3 for i in range(11)]\n",
    "print (\"List l1:\",l1,'\\n',\"List l2:\",l2)\n",
    "    "
   ]
  },
  {
   "cell_type": "markdown",
   "metadata": {},
   "source": [
    "8\\. Nested list comprehension\n",
    "\n",
    "A Pythagorean triple is an integer solution to the Pythagorean theorem $a^2+b^2=c^2$. The first Pythagorean triple is (3,4,5). Find and put in a tuple all unique Pythagorean triples for the positive integers a, b and c less than 100."
   ]
  },
  {
   "cell_type": "code",
   "execution_count": 34,
   "metadata": {},
   "outputs": [
    {
     "name": "stdout",
     "output_type": "stream",
     "text": [
      "((3, 4, 5), (5, 12, 13), (6, 8, 10), (7, 24, 25), (8, 15, 17), (9, 12, 15), (9, 40, 41), (10, 24, 26), (11, 60, 61), (12, 16, 20), (12, 35, 37), (13, 84, 85), (14, 48, 50), (15, 20, 25), (15, 36, 39), (16, 30, 34), (16, 63, 65), (18, 24, 30), (18, 80, 82), (20, 21, 29), (20, 48, 52), (21, 28, 35), (21, 72, 75), (24, 32, 40), (24, 45, 51), (24, 70, 74), (25, 60, 65), (27, 36, 45), (28, 45, 53), (28, 96, 100), (30, 40, 50), (30, 72, 78), (32, 60, 68), (33, 44, 55), (33, 56, 65), (35, 84, 91), (36, 48, 60), (36, 77, 85), (39, 52, 65), (39, 80, 89), (40, 42, 58), (40, 75, 85), (42, 56, 70), (45, 60, 75), (48, 55, 73), (48, 64, 80), (51, 68, 85), (54, 72, 90), (57, 76, 95), (60, 63, 87), (60, 80, 100), (65, 72, 97))\n"
     ]
    }
   ],
   "source": [
    "l3=[(i,j,k) for i in range (1,101) for j in range (1,101) for k in range (1,101) if i<=j and (i**2 + j**2==k**2)]\n",
    "t3=tuple(l3)\n",
    "print (t3)\n",
    "\n",
    "\n"
   ]
  },
  {
   "cell_type": "markdown",
   "metadata": {},
   "source": [
    "9\\. Normalization\n",
    "\n",
    "Write a function that takes a tuple of numbers and returns it with the entries normalized to one"
   ]
  },
  {
   "cell_type": "code",
   "execution_count": 43,
   "metadata": {},
   "outputs": [
    {
     "name": "stdout",
     "output_type": "stream",
     "text": [
      "(0.040372670807453416, 0.13975155279503104, 0.018633540372670808, 0.055900621118012424, 0.012422360248447204, 0.07142857142857142, 0.07142857142857142, 0.17080745341614906, 0.09006211180124224, 0.049689440993788817, 0.16770186335403728, 0.11180124223602485)\n"
     ]
    }
   ],
   "source": [
    "def normtup(t):\n",
    "    try:\n",
    "        global sss\n",
    "        sss=0\n",
    "        for i in t:\n",
    "            sss+=i\n",
    "        nl=[i/sss for i in t]\n",
    "        return (tuple(nl))\n",
    "    except:\n",
    "        print (\"Not proper tuple\",'\\n')\n",
    "        \n",
    "tup=(13,45,6,18,4,23,23,55,29,16,54,36)\n",
    "print (normtup(tup))\n",
    "        \n"
   ]
  },
  {
   "cell_type": "code",
   "execution_count": null,
   "metadata": {},
   "outputs": [],
   "source": []
  }
 ],
 "metadata": {
  "kernelspec": {
   "display_name": "Python 3 (ipykernel)",
   "language": "python",
   "name": "python3"
  },
  "language_info": {
   "codemirror_mode": {
    "name": "ipython",
    "version": 3
   },
   "file_extension": ".py",
   "mimetype": "text/x-python",
   "name": "python",
   "nbconvert_exporter": "python",
   "pygments_lexer": "ipython3",
   "version": "3.9.12"
  }
 },
 "nbformat": 4,
 "nbformat_minor": 4
}
