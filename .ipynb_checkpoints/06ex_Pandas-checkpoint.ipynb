{
 "cells": [
  {
   "cell_type": "markdown",
   "metadata": {},
   "source": [
    "## Pandas analysis\n",
    "\n",
    "This exercise consists in analyzing a dataset containg timing information from a series of Time-to-Digital-Converters (TDC) implemented in a couple of FPGAs. Each measurement (i.e. each row of the input file) consists of a flag that specifies the type of message ('HEAD', which in this case is always 1), two addresses of the TDC providing the signal ('FPGA' and 'TDC_CHANNEL'), and the timing information ('ORBIT_CNT', 'BX_COUNTER', and 'TDC_MEAS'). Each TDC count corresponds to 25/30 ns, whereas a unit of BX_COUNTER corresponds to 25 ns, and the ORBIT_CNT is increased every 'x' BX_COUNTER. This allows to store the time in a similar way to hours, minutes and seconds."
   ]
  },
  {
   "cell_type": "code",
   "execution_count": 1,
   "metadata": {},
   "outputs": [
    {
     "name": "stdout",
     "output_type": "stream",
     "text": [
      "--2022-12-01 09:07:57--  https://www.dropbox.com/s/xvjzaxzz3ysphme/data_000637.txt\n",
      "Resolving www.dropbox.com (www.dropbox.com)... 162.125.69.18, 2620:100:6025:18::a27d:4512\n",
      "Connecting to www.dropbox.com (www.dropbox.com)|162.125.69.18|:443... connected.\n",
      "HTTP request sent, awaiting response... 302 Found\n",
      "Location: /s/raw/xvjzaxzz3ysphme/data_000637.txt [following]\n",
      "--2022-12-01 09:07:58--  https://www.dropbox.com/s/raw/xvjzaxzz3ysphme/data_000637.txt\n",
      "Reusing existing connection to www.dropbox.com:443.\n",
      "HTTP request sent, awaiting response... 302 Found\n",
      "Location: https://uc96f1cbff8bdc35d7b71897962a.dl.dropboxusercontent.com/cd/0/inline/BxzPkkbze6sDcE0gzvaaNLBNKpfS9VRTmU2RvbYspxYCTAg-6wL7wFYeFVIEmAIHKLsZ6eYXaCX27zq6pdrQEb3f4k9G_qUC7tibme4HD4Cuw6oSGreSaSV-pnkSWzpnXyKMdMDOf-qlbLipPEFr4x7lbv9QqBse6fUE_mYjs0IQhA/file# [following]\n",
      "--2022-12-01 09:07:58--  https://uc96f1cbff8bdc35d7b71897962a.dl.dropboxusercontent.com/cd/0/inline/BxzPkkbze6sDcE0gzvaaNLBNKpfS9VRTmU2RvbYspxYCTAg-6wL7wFYeFVIEmAIHKLsZ6eYXaCX27zq6pdrQEb3f4k9G_qUC7tibme4HD4Cuw6oSGreSaSV-pnkSWzpnXyKMdMDOf-qlbLipPEFr4x7lbv9QqBse6fUE_mYjs0IQhA/file\n",
      "Resolving uc96f1cbff8bdc35d7b71897962a.dl.dropboxusercontent.com (uc96f1cbff8bdc35d7b71897962a.dl.dropboxusercontent.com)... 162.125.69.15, 2620:100:6025:15::a27d:450f\n",
      "Connecting to uc96f1cbff8bdc35d7b71897962a.dl.dropboxusercontent.com (uc96f1cbff8bdc35d7b71897962a.dl.dropboxusercontent.com)|162.125.69.15|:443... connected.\n",
      "HTTP request sent, awaiting response... 200 OK\n",
      "Length: 33179236 (32M) [text/plain]\n",
      "Saving to: ‘/home/golanr/data/data_000637.txt’\n",
      "\n",
      "data_000637.txt     100%[===================>]  31.64M  19.7MB/s    in 1.6s    \n",
      "\n",
      "2022-12-01 09:08:01 (19.7 MB/s) - ‘/home/golanr/data/data_000637.txt’ saved [33179236/33179236]\n",
      "\n"
     ]
    }
   ],
   "source": [
    "# If you didn't download it yet, please get the relevant file now!\n",
    "!wget https://www.dropbox.com/s/xvjzaxzz3ysphme/data_000637.txt -P ~/data/"
   ]
  },
  {
   "cell_type": "markdown",
   "metadata": {},
   "source": [
    "1\\. Create a Pandas DataFrame reading N rows of the 'data_000637.txt' dataset. Choose N to be smaller than or equal to the maximum number of rows and larger that 10k.\n",
    "\n",
    "2\\. Find out the number of BX in a ORBIT (the value 'x').\n",
    "\n",
    "3\\. Find out how much the data taking lasted. You can either make an estimate based on the fraction of the measurements (rows) you read, or perform this check precisely by reading out the whole dataset.\n",
    "\n",
    "4\\. Create a new column with the absolute time in ns (as a combination of the other three columns with timing information).\n",
    "\n",
    "5\\. Replace the values (all 1) of the HEAD column randomly with 0 or 1.\n",
    "\n",
    "6\\. Create a new DataFrame that contains only the rows with HEAD=1.\n",
    "\n",
    "7\\. Make two occupancy plots (one for each FPGA), i.e. plot the number of counts per TDC channel\n",
    "\n",
    "8\\. Use the groupby method to find out the noisy channels, i.e. the TDC channels with most counts (say the top 3)\n",
    "\n",
    "9\\. Count the number of unique orbits. Count the number of unique orbits with at least one measurement from TDC_CHANNEL=139"
   ]
  },
  {
   "cell_type": "code",
   "execution_count": 17,
   "metadata": {},
   "outputs": [
    {
     "name": "stdout",
     "output_type": "stream",
     "text": [
      "BX_COUNTER 3563\n",
      "the value 'x' is max BX_COUNTER +1, so: 3564\n"
     ]
    }
   ],
   "source": [
    "#1 2#\n",
    "import pandas as pd\n",
    "import numpy as np\n",
    "N=10101\n",
    "file_name=\"~/data/data_000637.txt\"\n",
    "data=pd.read_csv(file_name, nrows=N)\n",
    "data\n",
    "print (data.max().index[4], data.max()[4])\n",
    "x=data.max()[4]+1\n",
    "print (\"the value 'x' is max BX_COUNTER +1, so:\", x)"
   ]
  },
  {
   "cell_type": "code",
   "execution_count": 33,
   "metadata": {},
   "outputs": [
    {
     "name": "stdout",
     "output_type": "stream",
     "text": [
      "0    3869200167\n",
      "Name: ORBIT_CNT, dtype: int64 \n",
      " 1310719    3869211171\n",
      "Name: ORBIT_CNT, dtype: int64\n",
      "0         NaN\n",
      "1310719   NaN\n",
      "Name: ORBIT_CNT, dtype: float64\n"
     ]
    }
   ],
   "source": [
    "#3\n",
    "data=pd.read_csv(file_name)\n",
    "print (data.loc[[0],'ORBIT_CNT'],\"\\n\",data.loc[[len(data.index)-1],'ORBIT_CNT'])\n",
    "exptime=data.loc[[len(data.index)-1],'ORBIT_CNT'] -data.loc[[0],'ORBIT_CNT'] \n",
    "print (exptime)"
   ]
  },
  {
   "cell_type": "code",
   "execution_count": null,
   "metadata": {},
   "outputs": [],
   "source": []
  },
  {
   "cell_type": "code",
   "execution_count": null,
   "metadata": {},
   "outputs": [],
   "source": []
  }
 ],
 "metadata": {
  "kernelspec": {
   "display_name": "Python 3",
   "language": "python",
   "name": "python3"
  },
  "language_info": {
   "codemirror_mode": {
    "name": "ipython",
    "version": 3
   },
   "file_extension": ".py",
   "mimetype": "text/x-python",
   "name": "python",
   "nbconvert_exporter": "python",
   "pygments_lexer": "ipython3",
   "version": "3.6.8"
  }
 },
 "nbformat": 4,
 "nbformat_minor": 2
}
